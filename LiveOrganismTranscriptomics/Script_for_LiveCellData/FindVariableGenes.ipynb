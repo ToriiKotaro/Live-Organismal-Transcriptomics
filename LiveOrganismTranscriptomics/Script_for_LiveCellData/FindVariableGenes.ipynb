{
 "cells": [
  {
   "cell_type": "code",
   "execution_count": 2,
   "id": "de03f468",
   "metadata": {},
   "outputs": [],
   "source": [
    "from tqdm import tqdm\n",
    "import pandas as pd\n",
    "import numpy as np"
   ]
  },
  {
   "cell_type": "code",
   "execution_count": 6,
   "id": "fd1c369e",
   "metadata": {},
   "outputs": [],
   "source": [
    "gn = pd.read_csv('./path/to/GeneID_list.csv',index_col=0)"
   ]
  },
  {
   "cell_type": "code",
   "execution_count": 7,
   "id": "3a0c0ea3",
   "metadata": {},
   "outputs": [],
   "source": [
    "df = pd.read_csv(\"./path/to/WholeData.csv\",index_col=0)"
   ]
  },
  {
   "cell_type": "code",
   "execution_count": null,
   "id": "be07a1b9",
   "metadata": {},
   "outputs": [],
   "source": [
    "sample_1pg = [i for i in df.columns if i[0]==\"1\"]\n",
    "sample_lc = [i for i in df.columns if (i[0]!=\"1\")&(i[:5]!=\"Hi015\")]\n",
    "sample_sc = [i for i in df.columns if i[:5]==\"Hi015\"]"
   ]
  },
  {
   "cell_type": "code",
   "execution_count": null,
   "id": "879b73a2",
   "metadata": {},
   "outputs": [],
   "source": [
    "def V_pred(dataset,gene):\n",
    "    CVm2 = (dataset.loc[gene].std()/dataset.loc[gene].mean())**2\n",
    "    Em = dataset.loc[gene].mean()\n",
    "    CVM2 = (dataset.sum(axis=1).std()/dataset.sum(axis=1).mean())**2\n",
    "    CV1N2 = (dataset.sum(axis=0).std()/dataset.sum(axis=0).mean())**2\n",
    "    v = CVm2/((1+CVM2)*(1+CV1N2)/Em+CV1N2)\n",
    "    return v"
   ]
  },
  {
   "cell_type": "code",
   "execution_count": null,
   "id": "6eaebc49",
   "metadata": {},
   "outputs": [],
   "source": [
    "vs_1pg = []\n",
    "for i in tqdm(df[df[sample_1pg].sum(axis=1)>0].index[:]):\n",
    "    if df.loc[i,sample_1pg].sum()==0:continue\n",
    "    vs_1pg.append(V_pred(df[df[df.columns].sum(axis=1)>0][sample_1pg],i))"
   ]
  },
  {
   "cell_type": "code",
   "execution_count": null,
   "id": "86a6ca33",
   "metadata": {},
   "outputs": [],
   "source": [
    "vs_lc = {}\n",
    "for i in tqdm(df[df[sample_lc].sum(axis=1)>0].index):\n",
    "    vs_lc[i] = V_pred(df[df[sample_lc].sum(axis=1)>0][sample_lc],i)"
   ]
  },
  {
   "cell_type": "code",
   "execution_count": null,
   "id": "2586b56e",
   "metadata": {},
   "outputs": [],
   "source": [
    "vs_sc = {}\n",
    "for i in tqdm(df[df[sample_sc].sum(axis=1)>0].index):\n",
    "    vs_sc[i] = V_pred(df[df[sample_sc].sum(axis=1)>0][sample_sc],i)"
   ]
  },
  {
   "cell_type": "code",
   "execution_count": null,
   "id": "2bb5f6d7",
   "metadata": {},
   "outputs": [],
   "source": [
    "p_val = 0.05\n",
    "va_1pg_dropna = [i for i in vs_1pg if not np.isnan(i)]\n",
    "threshold=sorted(va_1pg_dropna)[::-1][int(len(va_1pg_dropna)*p_val)]\n",
    "print(threshold)\n",
    "high_val_genes_sc = [i for i,j in vs_sc.items() if j > threshold]"
   ]
  },
  {
   "cell_type": "code",
   "execution_count": null,
   "id": "a1215d81",
   "metadata": {},
   "outputs": [],
   "source": [
    "p_val = 0.05\n",
    "va_1pg_dropna = [i for i in vs_1pg if not np.isnan(i)]\n",
    "threshold=sorted(va_1pg_dropna)[::-1][int(len(va_1pg_dropna)*p_val)]\n",
    "print(threshold)\n",
    "high_val_genes_lc = [i for i,j in vs_lc.items() if j > threshold]\n",
    "print(\"q_val(FDR)\",(p_val*len(va_1pg_dropna))/len(high_val_genes_lc))"
   ]
  },
  {
   "cell_type": "code",
   "execution_count": 3,
   "id": "75c033c2",
   "metadata": {},
   "outputs": [],
   "source": []
  },
  {
   "cell_type": "code",
   "execution_count": null,
   "id": "8cd66c72",
   "metadata": {},
   "outputs": [],
   "source": []
  },
  {
   "cell_type": "code",
   "execution_count": null,
   "id": "07f9cc05",
   "metadata": {},
   "outputs": [],
   "source": []
  }
 ],
 "metadata": {
  "kernelspec": {
   "display_name": "Python 3 (ipykernel)",
   "language": "python",
   "name": "python3"
  },
  "language_info": {
   "codemirror_mode": {
    "name": "ipython",
    "version": 3
   },
   "file_extension": ".py",
   "mimetype": "text/x-python",
   "name": "python",
   "nbconvert_exporter": "python",
   "pygments_lexer": "ipython3",
   "version": "3.8.13"
  }
 },
 "nbformat": 4,
 "nbformat_minor": 5
}

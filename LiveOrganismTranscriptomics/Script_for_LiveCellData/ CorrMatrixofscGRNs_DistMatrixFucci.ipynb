{
 "cells": [
  {
   "cell_type": "code",
   "execution_count": 1,
   "id": "f6ba1ee9",
   "metadata": {},
   "outputs": [],
   "source": [
    "import pandas as pd\n",
    "import matplotlib as mpl\n",
    "import numpy as np\n",
    "import matplotlib.pyplot as plt\n",
    "from scipy import stats"
   ]
  },
  {
   "cell_type": "code",
   "execution_count": 7,
   "id": "7016b4a4",
   "metadata": {},
   "outputs": [],
   "source": [
    "HV_ccg = []\n",
    "with open('./path/to/HighlyVariableCellCycleGeneslist.txt',mode=\"r\") as cycle:\n",
    "    for i in cycle:\n",
    "        HV_ccg.append(i[:-1])\n",
    "Regulators = ['MYC', 'SMAD2', 'TFDP1', 'TFDP2','EP300','CCNA2','CCNH','CDK1','HDAC1','HDAC2','MAD2L2','MDM2','PLK1','PTTG1','RAD21','RBX1','YWHAB']"
   ]
  },
  {
   "cell_type": "code",
   "execution_count": 10,
   "id": "f502a3f3",
   "metadata": {},
   "outputs": [],
   "source": [
    "GRNs = {}\n",
    "for c in range(1,16):\n",
    "    ckey = \"Cell\"+str(c)\n",
    "    GRN_df = pd.read_csv(\"./path/to/GRN_{}\".format(ckey),index_col=0)\n",
    "    for g in HV_ccg:\n",
    "        if g not in GRN_df.index:\n",
    "            GRN_df.loc[g] = np.zeros(len(GRN_df.columns))\n",
    "    GRN_df = GRN_df.loc[Regulators]\n",
    "    for g in HV_ccg:\n",
    "        if g not in GRN_df.columns:\n",
    "            GRN_df[g] = np.zeros(len(GRN_df.index)) \n",
    "    GRNs[ckey] = GRN_df/GRN_df.max().max()"
   ]
  },
  {
   "cell_type": "code",
   "execution_count": null,
   "id": "cba4cae5",
   "metadata": {},
   "outputs": [],
   "source": [
    "fluc = {}\n",
    "for reg in Regulators:\n",
    "    for resp in HV_ccg:\n",
    "        if reg == resp:\n",
    "            continue\n",
    "        fluc[reg+\">\"+resp] = []\n",
    "        for cell_key in range(1,16):\n",
    "            ckey = \"Cell\"+str(cell_key)\n",
    "            if reg in GRNs[\"Cell{}\".format(cell_key)].index and resp in GRNs[\"Cell{}\".format(cell_key)].columns:\n",
    "                fluc[reg+\">\"+resp].append(GRNs[\"Cell{}\".format(cell_key)].loc[reg,resp])\n",
    "            else:\n",
    "                fluc[reg+\">\"+resp].append(0)\n",
    "fluc_cv = {}\n",
    "for combi,w in fluc.items():\n",
    "    fluc_cv[combi] = np.var(w)/np.mean(w)\n",
    "    #fluc_var[combi] = np.var(w)\n",
    "fluc_cv_df_raw = pd.DataFrame(fluc_cv,index=[\"cv\"]).T.sort_values(\"cv\",ascending=False)\n",
    "fluc_cv_df = pd.DataFrame(stats.zscore(fluc_cv_df_raw),index=fluc_cv_df_raw.index,columns=fluc_cv_df_raw.columns).sort_values(\"cv\",ascending=False)\n",
    "\n",
    "fluc_var = {}\n",
    "for combi,w in fluc.items():\n",
    "    fluc_var[combi] = np.var(w)\n",
    "fluc_var_df_raw = pd.DataFrame(fluc_var,index=[\"var\"]).T.sort_values(\"var\",ascending=False)\n",
    "fluc_var_df = pd.DataFrame(stats.zscore(fluc_var_df_raw),index=fluc_var_df_raw.index,columns=fluc_var_df_raw.columns).sort_values(\"var\",ascending=False)\n",
    "\n",
    "sums = {}\n",
    "for combi,w in fluc.items():\n",
    "    sums[combi] = np.mean(w)\n",
    "sum_df_raw = pd.DataFrame(sums,index=[\"sum\"]).T.sort_values(\"sum\",ascending=False)\n",
    "sum_df = pd.DataFrame(stats.zscore(sum_df_raw),index=sum_df_raw.index,columns=sum_df_raw.columns).sort_values(\"sum\",ascending=False)"
   ]
  },
  {
   "cell_type": "code",
   "execution_count": null,
   "id": "40d0f580",
   "metadata": {},
   "outputs": [],
   "source": [
    "unstacked = np.array([])\n",
    "for c in range(1,16):\n",
    "    ckey = \"Cell\"+str(c)\n",
    "    if c == 1:\n",
    "        unstacked = GRNs[ckey].unstack().values\n",
    "    else:\n",
    "        unstacked = np.vstack([unstacked,GRNs[ckey].unstack().values])\n",
    "grn_corr = pd.DataFrame(unstacked).T.corr(method=\"spearman\")\n",
    "grn_corr.index = [\"Cell\"+str(i) for i in range(1,16)]\n",
    "grn_corr.columns = [\"Cell\"+str(i) for i in range(1,16)]"
   ]
  },
  {
   "cell_type": "code",
   "execution_count": null,
   "id": "8007fc61",
   "metadata": {},
   "outputs": [],
   "source": [
    "fucci = pd.read_csv(\"./path/to/FucciInt_LiveCell.csv\",index_col=0)\n",
    "fucci.columns=[\"Green\",\"Red\",\"Time\",\"Cell\"]\n",
    "dist_dic_alt = {}\n",
    "for c1 in range(1,16):\n",
    "    ckey1 = \"Cell\"+str(c1)\n",
    "    dist_dic_alt[ckey1] = dict()\n",
    "    for c2 in range(1,16):\n",
    "        ckey2 = \"Cell\"+str(c2)\n",
    "        dist = np.sum(np.sqrt((fucci[fucci[\"Cell\"]==ckey1][\"Green\"].values - fucci[fucci[\"Cell\"]==ckey2][\"Green\"].values)**2\n",
    "                              +(fucci[fucci[\"Cell\"]==ckey1][\"Red\"].values - fucci[fucci[\"Cell\"]==ckey2][\"Red\"].values)**2))\n",
    "        dist_dic_alt[ckey1][ckey2] = dist\n",
    "dist_df_o = pd.DataFrame(dist_dic_alt)\n",
    "dist_df_o = dist_df_o/dist_df_o.max().max()\n"
   ]
  },
  {
   "cell_type": "code",
   "execution_count": null,
   "id": "6772f556",
   "metadata": {},
   "outputs": [],
   "source": [
    "from scipy.cluster.hierarchy import linkage, dendrogram\n",
    "result1 = linkage(grn_corr, metric = 'euclidean',method = 'ward')\n",
    "den = dendrogram(result1)\n",
    "plt.title(\"Dedrogram\")\n",
    "plt.ylabel(\"Threshold\")\n",
    "plt.show()\n",
    "from sklearn.cluster import AgglomerativeClustering\n",
    "hir_clus   = AgglomerativeClustering(n_clusters = 2, affinity = 'euclidean', linkage = 'ward')\n",
    "hist_order = [grn_corr.columns[int(i)] for i in den[\"ivl\"]]"
   ]
  },
  {
   "cell_type": "code",
   "execution_count": null,
   "id": "7572eacd",
   "metadata": {},
   "outputs": [],
   "source": [
    "from matplotlib.colors import LinearSegmentedColormap\n",
    "grad = [\"#294C60\",\"#437C9D\",\"#7899D1\",\"#DFDFDF\",\"#BB9493\",\"#AC6A69\",\"#9D4343\",\"#7F3737\"]\n",
    "cmap_rb = LinearSegmentedColormap.from_list('custom',grad)\n",
    "cmap_rb_r = LinearSegmentedColormap.from_list('custom',grad[::-1])"
   ]
  },
  {
   "cell_type": "code",
   "execution_count": null,
   "id": "ab374baa",
   "metadata": {},
   "outputs": [],
   "source": [
    "dist_df = dist_df_o.loc[hist_order,hist_order]\n",
    "mask = np.triu(np.ones_like(dist_df.values, dtype=np.bool))\n",
    "fig = plt.figure(figsize=(1.5,1.5))\n",
    "ax1 = fig.add_subplot(111)\n",
    "sns.heatmap(dist_df, mask=mask, annot=False, fmt=\".2f\", cmap=cmap_rb_r,#cmap_new_r,\n",
    "            cbar=False,\n",
    "           cbar_kws={\"shrink\": .8},square=True,ax=ax1,linewidth=0.5)\n",
    "ax1.axes.xaxis.set_ticks([])\n",
    "ax1.axes.yaxis.set_ticks([])"
   ]
  },
  {
   "cell_type": "code",
   "execution_count": null,
   "id": "40713254",
   "metadata": {},
   "outputs": [],
   "source": [
    "grn_corr = grn_corr.loc[hist_order,hist_order]\n",
    "fig = plt.figure(figsize=(1.5,1.5))\n",
    "#plt.ylim(0, scd_ma.max())\n",
    "ax1 = fig.add_subplot(111)\n",
    "mask = np.triu(np.ones_like(grn_corr.values, dtype=np.bool))\n",
    "sns.heatmap(np.array(grn_corr), mask=mask, annot=False, fmt=\".2f\", cmap=cmap_rb,\n",
    "           cbar_kws={\"shrink\": .8},square=True,ax=ax1,linewidth=0.5, cbar=False)\n",
    "ax1.axes.xaxis.set_ticks([])\n",
    "ax1.axes.yaxis.set_ticks([])\n",
    "plt.show()"
   ]
  },
  {
   "cell_type": "code",
   "execution_count": null,
   "id": "17596da6",
   "metadata": {},
   "outputs": [],
   "source": [
    "dist_fucci = []\n",
    "corrs = []\n",
    "for i in range(1,16):\n",
    "    for j in range(i+1,16):\n",
    "        key1 = \"Cell\"+str(i)\n",
    "        key2 = \"Cell\"+str(j)\n",
    "        corrs.append(grn_corr.loc[key1,key2])\n",
    "        dist_fucci.append(dist_df_o.loc[key1,key2])\n",
    "CR = np.corrcoef(corrs,dist_fucci)[0][1]\n",
    "import matplotlib as mpl\n",
    "font = {'family' : 'Arial','size': 7}\n",
    "mpl.rc('font', **font)\n",
    "fig = plt.figure(figsize=(1.2,1.2))\n",
    "ax1 = fig.add_subplot(111)\n",
    "ax1.xaxis.grid(True, which='major', linestyle='--', color =\"lightgray\",linewidth=0.5)\n",
    "ax1.yaxis.grid(True, which='major', linestyle='--', color =\"lightgray\",linewidth=0.5)\n",
    "ax1.set_axisbelow(True)\n",
    "ax1.tick_params(labelbottom=\"off\",bottom=\"on\", labelleft=\"on\",left=\"on\", length=2,width=1, color=black)\n",
    "#ax2.tick_params(labelbottom=\"on\",bottom=\"on\", labelleft=\"on\",left=\"on\", length=1, color=black)\n",
    "for j in [\"left\",\"bottom\"]:\n",
    "    ax1.spines[j].set_color(black)\n",
    "for j in [\"top\",\"right\"]:\n",
    "    ax1.spines[j].set_color(\"w\")\n",
    "    #ax1.spines[j].set_width(1)\n",
    "df = pd.DataFrame([(np.array(corrs)), dist_fucci], index=[\"G\",\"F\"]).T\n",
    "#sns.regplot(data = df,x=\"G\",y=\"F\", scatter_kws={'s':5,\"edgecolor\":\"w\",\"linewidth\":0,\"alpha\":1},\n",
    "#            color=\"#5C5C5C\", line_kws={\"color\": blue,\"linewidth\":1.5})#,ax=ax1)\n",
    "df.plot.scatter(x=\"G\",y=\"F\",s=3,ax=ax1,color=\"dimgray\")\n",
    "#polr_gradient\n",
    "plt.xlabel(\"\")\n",
    "plt.ylabel(\"\")\n",
    "#ax1.scatter(x=corrs,y=dist_fucci,s=12.5,color=colors_15[-3],edgecolor=black,linewidth=0.5)\n",
    "\n",
    "ax1.xaxis.grid(True, which='major', linestyle='--', color =\"lightgray\",linewidth=0.5)\n",
    "ax1.yaxis.grid(True, which='major', linestyle='--', color =\"lightgray\",linewidth=0.5)\n",
    "\n",
    "plt.show()\n",
    "print(CR)\n",
    "print(stats.spearmanr(corrs,dist_fucci))"
   ]
  }
 ],
 "metadata": {
  "kernelspec": {
   "display_name": "Python 3 (ipykernel)",
   "language": "python",
   "name": "python3"
  },
  "language_info": {
   "codemirror_mode": {
    "name": "ipython",
    "version": 3
   },
   "file_extension": ".py",
   "mimetype": "text/x-python",
   "name": "python",
   "nbconvert_exporter": "python",
   "pygments_lexer": "ipython3",
   "version": "3.8.13"
  }
 },
 "nbformat": 4,
 "nbformat_minor": 5
}

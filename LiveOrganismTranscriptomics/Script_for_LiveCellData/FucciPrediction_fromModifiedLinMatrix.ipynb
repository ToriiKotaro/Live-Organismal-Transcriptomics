{
 "cells": [
  {
   "cell_type": "code",
   "execution_count": null,
   "id": "02edfcc9",
   "metadata": {},
   "outputs": [],
   "source": [
    "import pandas as pd\n",
    "import matplotlib as mpl\n",
    "import numpy as np\n",
    "import matplotlib.pyplot as plt\n",
    "import seaborn as sns\n",
    "from sklearn.ensemble import RandomForestRegressor as RFR"
   ]
  },
  {
   "cell_type": "code",
   "execution_count": null,
   "id": "e6ab5a81",
   "metadata": {},
   "outputs": [],
   "source": [
    "fucci = pd.read_csv(\"./path/to/FucciInt_LiveCell.csv\",index_col=0)\n",
    "fucci.columns=[\"Green\",\"Red\",\"Time\",\"Cell\"]\n",
    "cluster_1=['Cell9',\n",
    "  'Cell8',\n",
    "  'Cell14',\n",
    "  'Cell11',\n",
    "  'Cell7',\n",
    "  'Cell3',\n",
    "  'Cell1',\n",
    "  'Cell10']\n",
    "cluster_2=['Cell4',\n",
    "  'Cell2',\n",
    "  'Cell13',\n",
    "  'Cell5',\n",
    "  'Cell15',\n",
    "  'Cell6',\n",
    "  'Cell12']\n",
    "rf_data_grn = []\n",
    "gene_indiex = HighEdges\n",
    "for cell_key in range(1,16):\n",
    "    ckey = \"Cell\"+str(cell_key)\n",
    "    rf_data_grn.append([])\n",
    "    for key in gene_indiex:\n",
    "        reg, resp = key.split(\">\")\n",
    "        if reg in GRNs[\"Cell{}\".format(cell_key)].index and resp in GRNs[\"Cell{}\".format(cell_key)].columns:\n",
    "            rf_data_grn[cell_key-1].append(GRNs[\"Cell{}\".format(cell_key)].loc[reg,resp])\n",
    "        else:\n",
    "            rf_data_grn[cell_key-1].append(0)\n",
    "rf_data_grn = pd.DataFrame(rf_data_grn,index = [\"Cell\"+str(cell_key) for cell_key in range(1,16)],columns = gene_indiex)\n",
    "\n",
    "rf_data_fucci = []\n",
    "for cell_key in range(1,16):\n",
    "    rf_data_fucci.append([])\n",
    "    ckey = \"Cell\"+str(cell_key)\n",
    "    cell_df_fucci = fucci[fucci[\"Cell\"]==ckey]\n",
    "    for rg in [\"Green\",\"Red\"]:\n",
    "        for t in range(4):\n",
    "            rf_data_fucci[cell_key-1].append(cell_df_fucci[cell_df_fucci[\"Time\"]==(t)*2.5][rg].values[0])\n",
    "rf_data_fucci = pd.DataFrame(rf_data_fucci,index = [\"Cell\"+str(cell_key) for cell_key in range(1,16)])\n",
    "\n",
    "rg = RFR(n_jobs=-1, random_state=16,n_estimators=200) \n",
    "rg.fit(rf_data_grn, rf_data_fucci)\n",
    "\n",
    "pertubated_rf_data_grn =[]\n",
    "for cell_key in range(1,16):\n",
    "    ckey = \"Cell\"+str(cell_key)\n",
    "    pertubated_rf_data_grn.append([])\n",
    "    for key in gene_indiex:\n",
    "        reg, resp = key.split(\">\")\n",
    "        if (reg == \"SMAD2\")&(resp==\"CDKN1A\"):\n",
    "            pertubated_rf_data_grn[cell_key-1].append(0)\n",
    "        elif (reg == \"EP300\")&(resp==\"CDKN1A\"):\n",
    "            pertubated_rf_data_grn[cell_key-1].append(0)\n",
    "        elif reg in GRNs[\"Cell{}\".format(cell_key)].index and resp in GRNs[\"Cell{}\".format(cell_key)].columns:\n",
    "            pertubated_rf_data_grn[cell_key-1].append(GRNs[\"Cell{}\".format(cell_key)].loc[reg,resp])\n",
    "        else:\n",
    "            pertubated_rf_data_grn[cell_key-1].append(0)\n",
    "pertubated_rf_data_grn = pd.DataFrame(pertubated_rf_data_grn,index = [\"Cell\"+str(cell_key) for cell_key in range(1,16)],columns = gene_indiex)\n",
    "pertubated_fucci_pred = pd.DataFrame(rg.predict(pertubated_rf_data_grn),index=rf_data_fucci.index)\n"
   ]
  },
  {
   "cell_type": "code",
   "execution_count": null,
   "id": "6f1a2be5",
   "metadata": {},
   "outputs": [],
   "source": [
    "for i,j in zip(rf_data_fucci.values, pertubated_fucci_pred.values):\n",
    "    original_trj = pd.DataFrame([i[:4],i[4:]],index=[\"Green\",\"Red\"]).T\n",
    "    pertubated_trj = pd.DataFrame([j[:4],j[4:]],index=[\"Green\",\"Red\"]).T\n",
    "    fig,ax = plt.subplots(figsize=(2,2))\n",
    "    original_trj.plot.scatter(x=0,y=1,ax=ax)\n",
    "    pertubated_trj.plot.scatter(x=0,y=1,ax=ax,c=\"k\")\n",
    "    plt.show()"
   ]
  },
  {
   "cell_type": "code",
   "execution_count": null,
   "id": "f12f658e",
   "metadata": {},
   "outputs": [],
   "source": []
  }
 ],
 "metadata": {
  "kernelspec": {
   "display_name": "Python 3 (ipykernel)",
   "language": "python",
   "name": "python3"
  },
  "language_info": {
   "codemirror_mode": {
    "name": "ipython",
    "version": 3
   },
   "file_extension": ".py",
   "mimetype": "text/x-python",
   "name": "python",
   "nbconvert_exporter": "python",
   "pygments_lexer": "ipython3",
   "version": "3.8.13"
  }
 },
 "nbformat": 4,
 "nbformat_minor": 5
}

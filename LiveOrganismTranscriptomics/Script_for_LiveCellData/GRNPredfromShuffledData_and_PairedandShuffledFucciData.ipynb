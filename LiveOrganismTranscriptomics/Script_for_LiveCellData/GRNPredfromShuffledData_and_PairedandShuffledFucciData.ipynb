{
 "cells": [
  {
   "cell_type": "code",
   "execution_count": null,
   "id": "407f1bb9",
   "metadata": {},
   "outputs": [],
   "source": [
    "import pandas as pd\n",
    "import numpy as np\n",
    "from dynGENIE3 import *"
   ]
  },
  {
   "cell_type": "code",
   "execution_count": null,
   "id": "a2611180",
   "metadata": {},
   "outputs": [],
   "source": [
    "lc = pd.read_csv(\"./path/to/LiveCellData_15cells.csv\",index_col=0)\n",
    "tmm = pd.read_csv(\"./path/to/TMM_NormlizeFactors.csv\",index_col=0)\n",
    "for idx in lc.columns:\n",
    "    lc[idx] = lc[idx]*tmm.loc[idx,\"norm.factors\"]\n",
    "gn = pd.read_csv('./path/to/GeneID_list.csv',index_col=0)\n",
    "lc.index = [gn.loc[i,\"Approved symbol\"] if i in gn.index else i for i in lc.index]\n",
    "\n",
    "lct=lc.T\n",
    "filename = \"Cell_SamplingTime.csv\"\n",
    "path = \"./path/to/\"\n",
    "df = pd.read_csv(path+filename,index_col=0)"
   ]
  },
  {
   "cell_type": "code",
   "execution_count": null,
   "id": "24e190f3",
   "metadata": {},
   "outputs": [],
   "source": [
    "fucci = pd.read_csv(\"./path/to/FucciInt_LiveCell.csv\",index_col=0)\n",
    "fucci.columns=[\"Green\",\"Red\",\"Time\",\"Cell\"]"
   ]
  },
  {
   "cell_type": "code",
   "execution_count": 10,
   "id": "f8937454",
   "metadata": {
    "scrolled": true
   },
   "outputs": [],
   "source": [
    "# Permutation\n",
    "import random\n",
    "original_index = []\n",
    "shuffled_index = []\n",
    "for T in [0,2.5,5,7.5]:\n",
    "    original = list(df[df[\"Time\"]==T].index)\n",
    "    shuffled = random.sample(original, len(original))\n",
    "    original_index.extend(original)\n",
    "    shuffled_index.extend(shuffled)\n",
    "\n",
    "df_shuffle_pair = {}\n",
    "fucci_shuffle_pair = {}\n",
    "for o,s in zip(original_index,shuffled_index):\n",
    "    key_o = df.loc[o,\"Cell\"]+\"_\"+str(df.loc[o,\"Time\"])\n",
    "    key_s = df.loc[s,\"Cell\"]+\"_\"+str(df.loc[s,\"Time\"])\n",
    "    fucci_shuffle_pair[key_o] = key_s\n",
    "    df_shuffle_pair[o] = s\n",
    "df.index = [df_shuffle_pair[i] for i in df.index]\n",
    "fucci.index = [fucci_shuffle_pair[i] for i in fucci.index]\n",
    "fucci[\"Time\"] = [float(i.split(\"_\")[1]) for i in fucci.index]\n",
    "fucci[\"Cell\"] = [i.split(\"_\")[0] for i in fucci.index]\n",
    "fucci.to_csv()"
   ]
  },
  {
   "cell_type": "code",
   "execution_count": null,
   "id": "03f9d5e4",
   "metadata": {},
   "outputs": [],
   "source": [
    "new_lct= pd.concat([lct,df], axis=1)"
   ]
  },
  {
   "cell_type": "code",
   "execution_count": null,
   "id": "20ad0f34",
   "metadata": {},
   "outputs": [],
   "source": [
    "#GRN estimation from shuffle data\n",
    "TFs = ['MYC', 'SMAD2', 'TFDP1', 'TFDP2']\n",
    "CoFs =['EP300','CCNA2','CCNH','CDK1','HDAC1','HDAC2','MAD2L2','MDM2','PLK1','PTTG1','RAD21','RBX1','YWHAB']\n",
    "Regulators = TFs+CoFs\n",
    "HV_ccg = ['CDC6', 'CDK1', 'WEE1', 'MYC', 'SMC1A', 'CDK7', 'BUB3', 'SMC3', 'HDAC2',\n",
    "       'CCNA2', 'CUL1', 'MDM2', 'ANAPC11', 'YWHAE', 'CCNB2', 'MCM3', 'CDKN2A',\n",
    "       'CHEK2', 'MAD2L1', 'CDC25B', 'YWHAH', 'MCM4', 'RBX1', 'TFDP1', 'CCNH',\n",
    "       'HDAC1', 'MCM6', 'PTTG1', 'CDC20', 'YWHAZ', 'RAD21', 'SKP2', 'CDC23',\n",
    "       'GADD45A', 'SKP1', 'YWHAB', 'PRKDC', 'ORC5', 'MCM7', 'CCND3', 'MAD2L2',\n",
    "       'TFDP2', 'SMAD2', 'CDC7', 'BUB1', 'CDC45', 'ANAPC5', 'ANAPC13', 'SFN',\n",
    "       'ORC2', 'YWHAQ', 'CCNB1', 'CDK2', 'PCNA', 'EP300', 'PLK1', 'CDKN1A',\n",
    "       'CCND1']\n",
    "\n",
    "for cell in range(1,16):\n",
    "    cell_key = \"Cell\"+str(cell)\n",
    "    time = list(new_lct[new_lct[\"Cell\"]==cell_key].sort_values(\"Time\").index)\n",
    "    detected_whole_ccg = [g for g in HV_ccg if new_lct[new_lct[\"Cell\"]==cell_key][g].sum()>0]\n",
    "    detected_ccg_reg = list(set(Regulators) & set(detected_whole_ccg))\n",
    "    print(\"Num of Reg : \"+str(len(detected_ccg_reg)))\n",
    "    result = dynGENIE3([new_lct.loc[time,detected_whole_ccg].values],\n",
    "                               [np.array([0, 2.5,5,7.5])],\n",
    "                               regulators = detected_ccg_reg,\n",
    "                               gene_names = detected_whole_ccg,nthreads=16)\n",
    "    GRN_df = pd.DataFrame(result[0],index=detected_whole_ccg,columns=detected_whole_ccg)\n",
    "    GRN_df.to_csv(\"./path/to/shuffledGRN_Cell_{}_withCoFs.csv\".format(cell))"
   ]
  }
 ],
 "metadata": {
  "kernelspec": {
   "display_name": "Python 3 (ipykernel)",
   "language": "python",
   "name": "python3"
  },
  "language_info": {
   "codemirror_mode": {
    "name": "ipython",
    "version": 3
   },
   "file_extension": ".py",
   "mimetype": "text/x-python",
   "name": "python",
   "nbconvert_exporter": "python",
   "pygments_lexer": "ipython3",
   "version": "3.8.13"
  }
 },
 "nbformat": 4,
 "nbformat_minor": 5
}
